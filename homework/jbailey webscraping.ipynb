{
  "cells": [
    {
      "cell_type": "markdown",
      "metadata": {
        "id": "eltQWYQxn36F"
      },
      "source": [
        "[![Open in Colab](https://colab.research.google.com/assets/colab-badge.svg)](https://colab.research.google.com/github/JamesMTucker/DATA_340_NLP/blob/master/assignment_notebooks/Webscraping.ipynb)\n",
        "\n",
        "# Webscraping Assignment\n",
        "\n",
        "Reminder: you are permitted to work with another classmate on this assignment. If you do, please submit a single notebook with both of your names at the top.\n",
        "\n",
        "## Due date\n",
        "\n",
        "Friday, February 24 (12:00 pm), 2023\n",
        "\n",
        "## Assignment description\n",
        "\n",
        "In this project you will write a Jupyter Notebook or R Markdown file to scrape a selected website. You will need to:\n",
        "\n",
        "1. Write a function that takes a URL as input and returns the HTML of the page as a string.\n",
        "2. Inspect the HTML of the page and use regular expressions to extract the documents within the page.\n",
        "3. Model the documents in a corpus\n",
        "4. Analyze the corpus using the bag of words model\n",
        "5. Implement a TF-IDF model to extract the most n-important words for each document in the corpus.\n",
        "\n",
        "### Objective\n",
        "\n",
        "This assignment reinforces previous lecture topics on the linguistic background, properties of language, information theory, and Regular Expressions.\n",
        "\n",
        "\n",
        "## Submission medium\n",
        "\n",
        "Jupyter Notebook or R Markdown file. See additional instructions at the final section of this document.\n",
        "\n",
        "## Code Dependencies\n",
        "\n",
        "You will need to install the following packages:\n",
        "\n",
        "- `requests`\n",
        "- `re`\n",
        "- `beautifulsoup4`\n",
        "- `nltk`\n",
        "- `pandas`\n",
        "- `numpy`\n",
        "- `matplotlib`\n",
        "\n",
        "\n",
        "## Grading\n",
        "\n",
        "This assignment is worth 10 points. (extra credit 1 point to final grade if you create a heatmap of the TF-IDF matrix)"
      ]
    },
    {
      "cell_type": "markdown",
      "metadata": {
        "id": "oQKfZVAxn36N"
      },
      "source": [
        "## Write a function that takes a URL as input and returns the HTML of the page as a string"
      ]
    },
    {
      "cell_type": "markdown",
      "metadata": {
        "id": "GP1BFuZEn36Q"
      },
      "source": [
        "### 1.1 Write a function that takes a URL as input and returns the HTML of the page as a string"
      ]
    },
    {
      "cell_type": "code",
      "execution_count": 4,
      "metadata": {
        "colab": {
          "base_uri": "https://localhost:8080/"
        },
        "id": "1RV4uhyZn36R",
        "outputId": "daffb51e-0752-4e5a-c93e-bc47e0c81bc2"
      },
      "outputs": [
        {
          "output_type": "stream",
          "name": "stdout",
          "text": [
            "<class 'str'>\n"
          ]
        },
        {
          "output_type": "execute_result",
          "data": {
            "text/plain": [
              "True"
            ]
          },
          "metadata": {},
          "execution_count": 4
        }
      ],
      "source": [
        "import requests\n",
        "\n",
        "def get_html(url) -> str:\n",
        "    \"\"\"Get the HTML of a webpage and return the HTML as a string.\n",
        "    \n",
        "    Parameters\n",
        "    ----------\n",
        "    url : str\n",
        "        The URL of the webpage to scrape.\n",
        "    \n",
        "    Returns\n",
        "    -------\n",
        "    str\n",
        "        The HTML of the webpage as a string.\n",
        "    \"\"\"\n",
        "    ## YOUR CODE HERE\n",
        "    return (requests.get(url)).text #adapted and condensed from lecture code\n"
      ]
    },
    {
      "cell_type": "markdown",
      "metadata": {
        "id": "uBNtOgiNn36U"
      },
      "source": [
        "### 1.2 Inspect the HTML of the page. Can you identify any patterns in the HTML that might be useful for extracting the documents within the page?"
      ]
    },
    {
      "cell_type": "code",
      "execution_count": 8,
      "metadata": {
        "id": "-7d_C9U1n36W"
      },
      "outputs": [],
      "source": [
        "# Extract the the HTML source code from the URL (this is the same URL we used in class)\n",
        "url = \"https://www.gutenberg.org/files/1/1-0.txt\"\n",
        "\n",
        "html_source = get_html(url)\n",
        "#html_source"
      ]
    },
    {
      "cell_type": "markdown",
      "metadata": {
        "id": "uTYMOSp2n36Y"
      },
      "source": [
        "### 1.3 Use the BeautifulSoup library to create a BeautifulSoup object from the HTML string"
      ]
    },
    {
      "cell_type": "code",
      "execution_count": 12,
      "metadata": {
        "id": "J36F68Srn36Z"
      },
      "outputs": [],
      "source": [
        "from bs4 import BeautifulSoup as bs4\n",
        "soup = bs4(html_source, 'lxml')"
      ]
    },
    {
      "cell_type": "markdown",
      "metadata": {
        "id": "ksWGg6_6n36b"
      },
      "source": [
        "### 1.3 Extract the HTML body text and examine the contents."
      ]
    },
    {
      "cell_type": "code",
      "execution_count": 14,
      "metadata": {
        "id": "IpIvlA4xn36e"
      },
      "outputs": [],
      "source": [
        "# Please explain what the following line of code does in the cell below.\n",
        "body = soup.find(\"body\")\n",
        "#body\n",
        "#this code finds the part of the HTML web page that is tagged as the body and puts it in the body variable. \n",
        "#This now contains all of the text and html code that creates the visible information on the webpage."
      ]
    },
    {
      "cell_type": "markdown",
      "metadata": {
        "id": "lBX-XEnfn36f"
      },
      "source": []
    },
    {
      "cell_type": "code",
      "source": [
        "import re\n",
        "\n",
        "text = \"December, 1979  [Etext #9]\\n\\nArticle text 1\\n\\nJanuary, 1980  [Etext #10]\\n\\nArticle text 2\\n\\nFebruary, 1980  [Etext #11]\\n\\nArticle text 3\"\n",
        "\n",
        "articles = re.findall(r\"\\b\\w+,\\s+\\d+\\s+\\[Etext\\s+#\\d+\\]\\s+(.+?)(?=\\b\\w+,\\s+\\d+\\s+\\[Etext\\s+#\\d+\\]|\\Z)\", text, re.DOTALL)\n",
        "\n",
        "print(articles)"
      ],
      "metadata": {
        "id": "c3YUGAS79yQ4",
        "outputId": "6fb22967-9393-4712-9e62-c73c80412f79",
        "colab": {
          "base_uri": "https://localhost:8080/"
        }
      },
      "execution_count": 34,
      "outputs": [
        {
          "output_type": "stream",
          "name": "stdout",
          "text": [
            "['Article text 1\\n\\n', 'Article text 2\\n\\n', 'Article text 3']\n"
          ]
        }
      ]
    },
    {
      "cell_type": "markdown",
      "metadata": {
        "id": "-HJ5g_K9n36h"
      },
      "source": [
        "### 1.4 Use regular expressions to extract the documents within the page"
      ]
    },
    {
      "cell_type": "code",
      "execution_count": 50,
      "metadata": {
        "id": "8LazrHBFn36i"
      },
      "outputs": [],
      "source": [
        "import re\n",
        "\n",
        "# Your regex here to capture the documents\n",
        "\n",
        "# Success option 1\n",
        "doc_extractor = r\"\\[Etext #\\d+\\]([\\s\\S]+?)(?=\\[Etext #\\d+\\]|End of the Project|\\*\\*\\*End)\" #taken from lecture notes\n",
        "\n",
        "# Explain this line of code in the cell below.\n",
        "# __Note:__ You will need to use the `re.MULTILINE` flag to ensure that the\n",
        "# regular expression matches across multiple lines.\n",
        "found_documents: list = re.findall(doc_extractor, body.text, flags=re.MULTILINE)\n",
        "#found_documents\n",
        "assert len(found_documents) == 9, \"Please check your regex. You should have found a total 9 documents.\"\n",
        "\n",
        "## if you are having trouble with the regex remeber that you can use regex101.com to test and debug.\n",
        "#print(found_documents[8])\n",
        "\n",
        "#The code above uses a regular expression, stored as doc_extractor, to parse through the body text of the HTML and extract the nine unique articles\n",
        "#the articles, which each start with [Etext N], are separated and their text is placed into a list of found_documents"
      ]
    },
    {
      "cell_type": "markdown",
      "metadata": {
        "id": "TlqbcFnZn36k"
      },
      "source": [
        "Explain: `documents = re.findall(doc_extractor, body.text, re.MULTILINE)`\n",
        "\n",
        "The code above uses a regular expression, stored as doc_extractor, to parse through the body text of the HTML and extract the nine unique articles\n",
        "the articles, which each start with [Etext N], are separated and their text is placed into a list of found_documents.\n",
        "\n",
        "The regular expression used finds each instance of [Etext N] and then collects all text between that tag and either of the next etext tag or the ***End string that appears after the 9th article. "
      ]
    },
    {
      "cell_type": "markdown",
      "metadata": {
        "id": "XnUxyEHfn36l"
      },
      "source": [
        "## 1.5 Explore the contents of the Documents\n",
        "\n",
        "In the matched documents, you will find a heading appended to the text by project Gutenberg. For the purposes of this assignment, I provided a cleaner function to extract the Gutenberg headings from the text for you."
      ]
    },
    {
      "cell_type": "code",
      "execution_count": 51,
      "metadata": {
        "id": "xHGeaqHln36m"
      },
      "outputs": [],
      "source": [
        "def clean_gutenberg(text: str) -> str:\n",
        "    \"\"\"Clean the text of a Gutenberg document.\n",
        "    \n",
        "    Parameters\n",
        "    ----------\n",
        "    text : str\n",
        "        The text of a Gutenberg document.\n",
        "    \n",
        "    Returns\n",
        "    -------\n",
        "    str\n",
        "        The cleaned text of the document.\n",
        "    \"\"\"\n",
        "    text = re.sub(r\"\\[Etext #\\d+\\]\", \"\", text)\n",
        "    text = re.sub(r\"(\\r\\n)+\", \" \", text)\n",
        "    text = re.sub(r\"^ ?The Project Gutenberg.*?Independence\\*\\*\", \"\", text, flags=re.MULTILINE)\n",
        "    text = re.sub(r\"^ ?\\*\\*\\*\\*The Project Gutenberg Etext of The U. S. Bill of Rights\\*\\*\\*\\*\", \"\", text, flags=re.MULTILINE)\n",
        "    text = re.sub(r\"^ ?November.*?EST\", \"\", text, flags=re.MULTILINE)\n",
        "    text = re.sub(r\"^ ?\\*\\*The Project.*?, USA\", \"\", text, flags=re.MULTILINE)\n",
        "    text = re.sub(r\"^ ?\\*\\*\\*\\*\\*The Project.*?corrections\\. \\*\\*\\*\", \"\", text, flags=re.MULTILINE)\n",
        "    text = re.sub(r\"^ ?The Project.*?1775\\.\", \"\", text, flags=re.MULTILINE)\n",
        "    text = re.sub(r\"^ ?Officially.*?calendar\\]\", \"\", text, flags=re.MULTILINE)\n",
        "    text = re.sub(r\"^ ?\\*\\*The Project.*?, 1865\", \"\", text, flags=re.MULTILINE)\n",
        "    text = re.sub(r\"^ ?The Project.*?, 1861\", \"\", text, flags=re.MULTILINE)\n",
        "    \n",
        "    return text.strip()"
      ]
    },
    {
      "cell_type": "code",
      "source": [
        "test = clean_gutenberg(found_documents[2])\n",
        "print(test) #figuring out exactly what the cleaner does"
      ],
      "metadata": {
        "id": "Lgl3rtK2Whdi",
        "outputId": "be18b96e-2217-4de9-e5f7-b7e261169fd0",
        "colab": {
          "base_uri": "https://localhost:8080/"
        }
      },
      "execution_count": 61,
      "outputs": [
        {
          "output_type": "stream",
          "name": "stdout",
          "text": [
            "We observe today not a victory of party but a celebration of freedom. . . symbolizing an end as well as a beginning. . .signifying renewal as well as change for I have sworn before you and Almighty God the same solemn oath our forbears prescribed nearly a century and three-quarters ago. The world is very different now, for man holds in his mortal hands the power to abolish all forms of human poverty and all forms of human life. And yet the same revolutionary beliefs for which our forbears fought are still at issue around the globe. . .the belief that the rights of man come not from the generosity of the state but from the hand of God. We dare not forget today that we are the heirs of that first revolution. Let the word go forth from this time and place. . .to friend and foe alike. . . that the torch has been passed to a new generation of Americans. . . born in this century, tempered by war, disciplined by a hard and bitter peace, proud of our ancient heritage. . .and unwilling to witness or permit the slow undoing of those human rights to which this nation has always been committed, and to which we are committed today. . .at home and around the world. Let every nation know. . .whether it wishes us well or ill. . . that we shall pay any price, bear any burden, meet any hardship, support any friend, oppose any foe, to assure the survival and the success of liberty.  This much we pledge. . .and more. To those old allies whose cultural and spiritual origins we share: we pledge the loyalty of faithful friends.  United. . .there is little we cannot do in a host of co-operative ventures. Divided. . .there is little we can do. . .for we dare not meet a powerful challenge, at odds, and split asunder. To those new states whom we welcome to the ranks of the free: we pledge our word that one form of colonial control shall not have passed away merely to be replaced by a far more iron tyranny. We shall not always expect to find them supporting our view. But we shall always hope to find them strongly supporting their own freedom. . .and to remember that. . .in the past. . .those who foolishly sought power by riding the back of the tiger ended up inside. To those people in the huts and villages of half the globe struggling to break the bonds of mass misery:  we pledge our best efforts to help them help themselves, for whatever period is required. . .not because the Communists may be doing it, not because we seek their votes, but because it is right. If a free society cannot help the many who are poor, it cannot save the few who are rich. To our sister republics south of our border:  we offer a special pledge. . . to convert our good words into good deeds. . .in a new alliance for progress . . .to assist free men and free governments in casting off the chains of poverty.  But this peaceful revolution of hope cannot become the prey of hostile powers.  Let all our neighbors know that we shall join with them to oppose aggression or subversion anywhere in the Americas. . .and let every other power know that this hemisphere intends to remain the master of its own house. To that world assembly of sovereign states:  the United Nations. . . our last best hope in an age where the instruments of war have far outpaced the instruments of peace, we renew our pledge of support. . .to prevent it from becoming merely a forum for invective. . .to strengthen its shield of the new and the weak. . . and to enlarge the area in which its writ may run. Finally, to those nations who would make themselves our adversaries, we offer not a pledge but a request:  that both sides begin anew the quest for peace; before the dark powers of destruction unleashed by science engulf all humanity in planned or accidental self-destruction. We dare not tempt them with weakness.  For only when our arms are sufficient beyond doubt can we be certain beyond doubt that they will never be employed. But neither can two great and powerful groups of nations take comfort from our present course. . .both sides overburdened by the cost of modern weapons, both rightly alarmed by the steady spread of the deadly atom, yet both racing to alter that uncertain balance of terror that stays the hand of Mankind's final war. So let us begin anew. . .remembering on both sides that civility is not a sign of weakness, and sincerity is always subject to proof. Let us never negotiate out of fear, but let us never fear to negotiate. Let both sides explore what problems unite us instead of belaboring those problems which divide us.  Let both sides, for the first time, formulate serious and precise proposals for the inspection and control of arms. . .and bring the absolute power to destroy other nations under the absolute control of all nations. Let both sides seek to invoke the wonders of science instead of its terrors.  Together let us explore the stars, conquer the deserts, eradicate disease, tap the ocean depths, and encourage the arts and commerce.  Let both sides unite to heed in all corners of the earth the command of Isaiah. . .to \"undo the heavy burdens. . . let the oppressed go free.\" And if a beachhead of co-operation may push back the jungle of suspicion. . . let both sides join in creating not a new balance of power. . . but a new world of law. . .where the strong are just. . . and the weak secure. . .and the peace preserved. . . . All this will not be finished in the first one hundred days. Nor will it be finished in the first one thousand days. . . nor in the life of this administration, nor even perhaps in our lifetime on this planet.  But let us begin. In your hands, my fellow citizens. . .more than mine. . .will rest the final success or failure of our course.  Since this country was founded, each generation of Americans has been summoned to give testimony to its national loyalty.  The graves of young Americans who answered the call to service surround the globe.  Now the trumpet summons us again. . . not as a call to bear arms, though arms we need. . .not as a call to battle. . . though embattled we are. . .but a call to bear the burden of a long twilight struggle. . .year in and year out, rejoicing in hope, patient in tribulation. . .a struggle against the common enemies of man: tyranny. . .poverty. . .disease. . .and war itself.  Can we forge against these enemies a grand and global alliance. . .North and South. . . East and West. . .that can assure a more fruitful life for all mankind? Will you join in that historic effort? In the long history of the world, only a few generations have been granted the role of defending freedom in its hour of maximum danger; I do not shrink from this responsibility. . .I welcome it.  I do not believe that any of us would exchange places with any other people or any other generation. The energy, the faith, the devotion which we bring to this endeavor will light our country and all who serve it. . .and the glow from that fire can truly light the world. And so, my fellow Americans. . .ask not what your country can do for you. . .ask what you can do for your country.  My fellow citizens of the world. . .ask not what America will do for you, but what together we can do for the Freedom of Man. Finally, whether you are citizens of America or citizens of the world, ask of us here the same high standards of strength and sacrifice which we ask of you.  With a good conscience our only sure reward, with history the final judge of our deeds; let us go forth to lead the land we love, asking His blessing and His help, but knowing that here on earth God's work must truly be our own. December, 1974\n"
          ]
        }
      ]
    },
    {
      "cell_type": "code",
      "execution_count": 73,
      "metadata": {
        "colab": {
          "base_uri": "https://localhost:8080/"
        },
        "id": "HhwypFTEn36o",
        "outputId": "ae93a221-4fae-4db2-f6ad-2092eab3f0ec"
      },
      "outputs": [
        {
          "output_type": "execute_result",
          "data": {
            "text/plain": [
              "9"
            ]
          },
          "metadata": {},
          "execution_count": 73
        }
      ],
      "source": [
        "corpus = []\n",
        "\n",
        "for i, doc in enumerate(found_documents):\n",
        "    corpus.append(clean_gutenberg(found_documents[i]))\n",
        "#goes through each item in found documents, runs it through the cleaner, and puts it in the corpus.\n",
        "len(corpus) #make sure we didnt lose anything!"
      ]
    },
    {
      "cell_type": "markdown",
      "metadata": {
        "id": "FV8NrFCnn36q"
      },
      "source": [
        "# Analyze the above corpus of documents using TF-IDF\n",
        "\n",
        "In the follow steps, I would like for you to accomplish the follow preprocessing steps. \n",
        "\n",
        "1. Tokenize the documents\n",
        "2. Lemmatize the tokens\n",
        "3. Remove stop words\n",
        "4. Remove punctuation\n",
        "5. Apply TF-IDF to the corpus\n",
        "    * You can write a TF-IDF model from sratch or use the `sklearn` library\n",
        "\n",
        "_tip: see lecture notebooks 4, 5, and 6 for examples of how to work with pandas_\n"
      ]
    },
    {
      "cell_type": "code",
      "execution_count": 74,
      "metadata": {
        "colab": {
          "base_uri": "https://localhost:8080/",
          "height": 331
        },
        "id": "ocuk3CsKn36r",
        "outputId": "0ca5e01f-ccb6-4e72-a9dd-a40a49bc4c63"
      },
      "outputs": [
        {
          "output_type": "execute_result",
          "data": {
            "text/plain": [
              "   docID                                               text\n",
              "0      0  THE DECLARATION OF INDEPENDENCE OF THE UNITED ...\n",
              "1      1  The United States Bill of Rights. The Ten Orig...\n",
              "2      2  We observe today not a victory of party but a ...\n",
              "3      3  Four score and seven years ago, our fathers br...\n",
              "4      4  THE CONSTITUTION OF THE UNITED STATES OF AMERI...\n",
              "5      5  No man thinks more highly than I do of the pat...\n",
              "6      6  In the name of God, Amen.  We, whose names are...\n",
              "7      7  Fellow countrymen:  At this second appearing t...\n",
              "8      8  Fellow citizens of the United States:  in comp..."
            ],
            "text/html": [
              "\n",
              "  <div id=\"df-1d511b9a-e842-4586-8e3f-c9b2042bb3e9\">\n",
              "    <div class=\"colab-df-container\">\n",
              "      <div>\n",
              "<style scoped>\n",
              "    .dataframe tbody tr th:only-of-type {\n",
              "        vertical-align: middle;\n",
              "    }\n",
              "\n",
              "    .dataframe tbody tr th {\n",
              "        vertical-align: top;\n",
              "    }\n",
              "\n",
              "    .dataframe thead th {\n",
              "        text-align: right;\n",
              "    }\n",
              "</style>\n",
              "<table border=\"1\" class=\"dataframe\">\n",
              "  <thead>\n",
              "    <tr style=\"text-align: right;\">\n",
              "      <th></th>\n",
              "      <th>docID</th>\n",
              "      <th>text</th>\n",
              "    </tr>\n",
              "  </thead>\n",
              "  <tbody>\n",
              "    <tr>\n",
              "      <th>0</th>\n",
              "      <td>0</td>\n",
              "      <td>THE DECLARATION OF INDEPENDENCE OF THE UNITED ...</td>\n",
              "    </tr>\n",
              "    <tr>\n",
              "      <th>1</th>\n",
              "      <td>1</td>\n",
              "      <td>The United States Bill of Rights. The Ten Orig...</td>\n",
              "    </tr>\n",
              "    <tr>\n",
              "      <th>2</th>\n",
              "      <td>2</td>\n",
              "      <td>We observe today not a victory of party but a ...</td>\n",
              "    </tr>\n",
              "    <tr>\n",
              "      <th>3</th>\n",
              "      <td>3</td>\n",
              "      <td>Four score and seven years ago, our fathers br...</td>\n",
              "    </tr>\n",
              "    <tr>\n",
              "      <th>4</th>\n",
              "      <td>4</td>\n",
              "      <td>THE CONSTITUTION OF THE UNITED STATES OF AMERI...</td>\n",
              "    </tr>\n",
              "    <tr>\n",
              "      <th>5</th>\n",
              "      <td>5</td>\n",
              "      <td>No man thinks more highly than I do of the pat...</td>\n",
              "    </tr>\n",
              "    <tr>\n",
              "      <th>6</th>\n",
              "      <td>6</td>\n",
              "      <td>In the name of God, Amen.  We, whose names are...</td>\n",
              "    </tr>\n",
              "    <tr>\n",
              "      <th>7</th>\n",
              "      <td>7</td>\n",
              "      <td>Fellow countrymen:  At this second appearing t...</td>\n",
              "    </tr>\n",
              "    <tr>\n",
              "      <th>8</th>\n",
              "      <td>8</td>\n",
              "      <td>Fellow citizens of the United States:  in comp...</td>\n",
              "    </tr>\n",
              "  </tbody>\n",
              "</table>\n",
              "</div>\n",
              "      <button class=\"colab-df-convert\" onclick=\"convertToInteractive('df-1d511b9a-e842-4586-8e3f-c9b2042bb3e9')\"\n",
              "              title=\"Convert this dataframe to an interactive table.\"\n",
              "              style=\"display:none;\">\n",
              "        \n",
              "  <svg xmlns=\"http://www.w3.org/2000/svg\" height=\"24px\"viewBox=\"0 0 24 24\"\n",
              "       width=\"24px\">\n",
              "    <path d=\"M0 0h24v24H0V0z\" fill=\"none\"/>\n",
              "    <path d=\"M18.56 5.44l.94 2.06.94-2.06 2.06-.94-2.06-.94-.94-2.06-.94 2.06-2.06.94zm-11 1L8.5 8.5l.94-2.06 2.06-.94-2.06-.94L8.5 2.5l-.94 2.06-2.06.94zm10 10l.94 2.06.94-2.06 2.06-.94-2.06-.94-.94-2.06-.94 2.06-2.06.94z\"/><path d=\"M17.41 7.96l-1.37-1.37c-.4-.4-.92-.59-1.43-.59-.52 0-1.04.2-1.43.59L10.3 9.45l-7.72 7.72c-.78.78-.78 2.05 0 2.83L4 21.41c.39.39.9.59 1.41.59.51 0 1.02-.2 1.41-.59l7.78-7.78 2.81-2.81c.8-.78.8-2.07 0-2.86zM5.41 20L4 18.59l7.72-7.72 1.47 1.35L5.41 20z\"/>\n",
              "  </svg>\n",
              "      </button>\n",
              "      \n",
              "  <style>\n",
              "    .colab-df-container {\n",
              "      display:flex;\n",
              "      flex-wrap:wrap;\n",
              "      gap: 12px;\n",
              "    }\n",
              "\n",
              "    .colab-df-convert {\n",
              "      background-color: #E8F0FE;\n",
              "      border: none;\n",
              "      border-radius: 50%;\n",
              "      cursor: pointer;\n",
              "      display: none;\n",
              "      fill: #1967D2;\n",
              "      height: 32px;\n",
              "      padding: 0 0 0 0;\n",
              "      width: 32px;\n",
              "    }\n",
              "\n",
              "    .colab-df-convert:hover {\n",
              "      background-color: #E2EBFA;\n",
              "      box-shadow: 0px 1px 2px rgba(60, 64, 67, 0.3), 0px 1px 3px 1px rgba(60, 64, 67, 0.15);\n",
              "      fill: #174EA6;\n",
              "    }\n",
              "\n",
              "    [theme=dark] .colab-df-convert {\n",
              "      background-color: #3B4455;\n",
              "      fill: #D2E3FC;\n",
              "    }\n",
              "\n",
              "    [theme=dark] .colab-df-convert:hover {\n",
              "      background-color: #434B5C;\n",
              "      box-shadow: 0px 1px 3px 1px rgba(0, 0, 0, 0.15);\n",
              "      filter: drop-shadow(0px 1px 2px rgba(0, 0, 0, 0.3));\n",
              "      fill: #FFFFFF;\n",
              "    }\n",
              "  </style>\n",
              "\n",
              "      <script>\n",
              "        const buttonEl =\n",
              "          document.querySelector('#df-1d511b9a-e842-4586-8e3f-c9b2042bb3e9 button.colab-df-convert');\n",
              "        buttonEl.style.display =\n",
              "          google.colab.kernel.accessAllowed ? 'block' : 'none';\n",
              "\n",
              "        async function convertToInteractive(key) {\n",
              "          const element = document.querySelector('#df-1d511b9a-e842-4586-8e3f-c9b2042bb3e9');\n",
              "          const dataTable =\n",
              "            await google.colab.kernel.invokeFunction('convertToInteractive',\n",
              "                                                     [key], {});\n",
              "          if (!dataTable) return;\n",
              "\n",
              "          const docLinkHtml = 'Like what you see? Visit the ' +\n",
              "            '<a target=\"_blank\" href=https://colab.research.google.com/notebooks/data_table.ipynb>data table notebook</a>'\n",
              "            + ' to learn more about interactive tables.';\n",
              "          element.innerHTML = '';\n",
              "          dataTable['output_type'] = 'display_data';\n",
              "          await google.colab.output.renderOutput(dataTable, element);\n",
              "          const docLink = document.createElement('div');\n",
              "          docLink.innerHTML = docLinkHtml;\n",
              "          element.appendChild(docLink);\n",
              "        }\n",
              "      </script>\n",
              "    </div>\n",
              "  </div>\n",
              "  "
            ]
          },
          "metadata": {},
          "execution_count": 74
        }
      ],
      "source": [
        "### TIP ###\n",
        "## if you want to work with pandas create a dataframe with documents as rows and columns for the document number and the text\n",
        "import pandas as pd\n",
        "corpus = pd.DataFrame({\"docID\": range(len(corpus)), \"text\": corpus})\n",
        "corpus"
      ]
    },
    {
      "cell_type": "code",
      "source": [
        "corpus['text'][0]"
      ],
      "metadata": {
        "id": "0VyOG_uWX80a",
        "outputId": "557fab76-ac12-4735-cb5b-bd88b01dad98",
        "colab": {
          "base_uri": "https://localhost:8080/",
          "height": 122
        }
      },
      "execution_count": 80,
      "outputs": [
        {
          "output_type": "execute_result",
          "data": {
            "text/plain": [
              "\"THE DECLARATION OF INDEPENDENCE OF THE UNITED STATES OF AMERICA When in the Course of human events, it becomes necessary for one people to dissolve the political bands which have connected them with another, and to assume, among the Powers of the earth, the separate and equal station to which the Laws of Nature and of Nature's God entitle them, a decent respect to the opinions of mankind requires that they should declare the causes which impel them to the separation. We hold these truths to be self-evident, that all men are created equal, that they are endowed by their Creator with certain unalienable Rights, that among these are Life, Liberty, and the pursuit of Happiness. That to secure these rights, Governments are instituted among Men, deriving their just powers from the consent of the governed, That whenever any Form of Government becomes destructive of these ends, it is the Right of the People to alter or to abolish it, and to institute new Government, laying its foundation on such principles and organizing its powers in such form, as to them shall seem most likely to effect their Safety and Happiness.  Prudence, indeed, will dictate that Governments long established should not be changed for light and transient causes; and accordingly all experience hath shown, that mankind are more disposed to suffer, while evils are sufferable, than to right themselves by abolishing the forms to which they are accustomed.  But when a long train of abuses and usurpations, pursuing invariably the same Object evinces a design to reduce them under absolute Despotism, it is their right, it is their duty, to throw off such Government, and to provide new Guards for their future security. --Such has been the patient sufferance of these Colonies; and such is now the necessity which constrains them to alter their former Systems of Government. The history of the present King of Great Britain is a history of repeated injuries and usurpations, all having in direct object the establishment of an absolute Tyranny over these States.  To prove this, let Facts be submitted to a candid world. He has refused his Assent to Laws, the most wholesome and necessary for the public good. He has forbidden his Governors to pass Laws of immediate and pressing importance, unless suspended in their operation till his Assent should be obtained; and when so suspended, he has utterly neglected to attend to them. He has refused to pass other Laws for the accommodation of large districts of people, unless those people would relinquish the right of Representation in the Legislature, a right inestimable to them and formidable to tyrants only. He has called together legislative bodies at places unusual, uncomfortable, and distant from the depository of their Public Records, for the sole purpose of fatiguing them into compliance with his measures. He has dissolved Representative Houses repeatedly, for opposing with manly firmness his invasions on the rights of the people. He has refused for a long time, after such dissolutions, to cause others to be elected; whereby the Legislative Powers, incapable of Annihilation, have returned to the People at large for their exercise; the State remaining in the mean time exposed to all the dangers of invasion from without, and convulsions within. He has endeavoured to prevent the population of these States; for that purpose obstructing the Laws of Naturalization of Foreigners; refusing to pass others to encourage their migration hither, and raising the conditions of new Appropriations of Lands. He has obstructed the Administration of Justice, by refusing his Assent to Laws for establishing Judiciary Powers. He has made judges dependent on his Will alone, for the tenure of their offices, and the amount and payment of their salaries. He has erected a multitude of New Offices, and sent hither swarms of Officers to harass our People, and eat out their substance. He has kept among us, in times of peace, Standing Armies without the Consent of our legislatures. He has affected to render the Military independent of and superior to the Civil Power. He has combined with others to subject us to a jurisdiction foreign to our constitution, and unacknowledged by our laws; giving his Assent to their Acts of pretended legislation: For quartering large bodies of armed troops among us: For protecting them, by a mock Trial, from Punishment for any Murders which they should commit on the Inhabitants of these States: For cutting off our Trade with all parts of the world: For imposing taxes on us without our Consent: For depriving us, in many cases, of the benefits of Trial by Jury: For transporting us beyond Seas to be tried for pretended offences: For abolishing the free System of English Laws in a neighbouring Province, establishing therein an Arbitrary government, and enlarging its Boundaries so as to render it at once an example and fit instrument for introducing the same absolute rule into these Colonies: For taking away our Charters, abolishing our most valuable Laws, and altering fundamentally the Forms of our Governments: For suspending our own Legislatures, and declaring themselves invested with Power to legislate for us in all cases whatsoever. He has abdicated Government here, by declaring us out of his Protection and waging War against us. He has plundered our seas, ravaged our Coasts, burnt our towns, and destroyed the lives of our people. He is at this time transporting large armies of foreign mercenaries to compleat the works of death, desolation and tyranny, already begun with circumstances of Cruelty & perfidy scarcely paralleled in the most barbarous ages, and totally unworthy of the Head of a civilized nation. He has constrained our fellow Citizens taken Captive on the high Seas to bear Arms against their Country, to become the executioners of their friends and Brethren, or to fall themselves by their Hands. He has excited domestic insurrections amongst us, and has endeavoured to bring on the inhabitants of our frontiers, the merciless Indian Savages, whose known rule of warfare, is an undistinguished destruction of all ages, sexes and conditions. In every stage of these Oppressions We have Petitioned for Redress in the most humble terms:  Our repeated Petitions have been answered only by repeated injury.  A Prince, whose character is thus marked by every act which may define a Tyrant, is unfit to be the ruler of a free People. Nor have We been wanting in attention to our British brethren. We have warned them from time to time of attempts by their legislature to extend an unwarrantable jurisdiction over us. We have reminded them of the circumstances of our emigration and settlement here.  We have appealed to their native justice and magnanimity, and we have conjured them by the ties of our common kindred to disavow these usurpations, which would inevitably interrupt our connections and correspondence.  They too have been deaf to the voice of justice and of consanguinity.  We must, therefore, acquiesce in the necessity, which denounces our Separation, and hold them, as we hold the rest of mankind, Enemies in War, in Peace Friends. We, therefore, the Representatives of the United States of America, in General Congress, Assembled, appealing to the Supreme Judge of the world for the rectitude of our intentions, do, in the Name, and by the Authority of the good People of these Colonies, solemnly publish and declare, That these United Colonies are, and of Right ought to be Free and Independent States; that they are Absolved from all Allegiance to the British Crown, and that all political connection between them and the State of Great Britain, is and ought to be totally dissolved; and that as Free and Independent States, they have full Power to levy War, conclude Peace, contract Alliances, establish Commerce, and to do all other Acts and Things which Independent States may of right do.  And for the support of this Declaration, with a firm reliance on the Protection of Divine Providence, we mutually pledge to each other our Lives, our Fortunes and our sacred Honor. December, 1972\""
            ],
            "application/vnd.google.colaboratory.intrinsic+json": {
              "type": "string"
            }
          },
          "metadata": {},
          "execution_count": 80
        }
      ]
    },
    {
      "cell_type": "markdown",
      "metadata": {
        "id": "9cfPfCQdn36s"
      },
      "source": [
        "## Tokenize the documents"
      ]
    },
    {
      "cell_type": "code",
      "execution_count": 98,
      "metadata": {
        "id": "echRfDEEn36t"
      },
      "outputs": [],
      "source": [
        "## Your code here\n",
        "import nltk\n",
        "#nltk.download('punkt')\n",
        "from nltk.tokenize import word_tokenize\n",
        "\n",
        "def tokenize_text(text): #go through each document and chop it up into a list of words or punctuation marks\n",
        "    words = word_tokenize(text)\n",
        "    words = [w.lower() for w in words]\n",
        "    return words\n",
        "\n",
        "tokenized_docs = [] #loop through corpus and apply the tokenizer to make a list of lists of words\n",
        "for i in range(len(corpus['docID'])):\n",
        "  tokenized_docs.append(tokenize_text(corpus['text'][i]))\n",
        "#tokenized_docs[8]"
      ]
    },
    {
      "cell_type": "markdown",
      "metadata": {
        "id": "IjIUbzNyn36t"
      },
      "source": [
        "## Lemmatize the tokens"
      ]
    },
    {
      "cell_type": "code",
      "execution_count": 101,
      "metadata": {
        "id": "1e3xQBcPn36u"
      },
      "outputs": [],
      "source": [
        "## Your code here\n",
        "from nltk.stem.porter import *\n",
        "stemmer = PorterStemmer()\n",
        "\n",
        "def lemmatize_tokens(tokens): #go through a list of tokens and lemmatize each token according to the imported Porter stemmer\n",
        "  lemmas = []\n",
        "  for token in tokens:\n",
        "    lemmas.append(stemmer.stem(token))\n",
        "  return lemmas\n",
        "\n",
        "lemmatized_docs = []\n",
        "for i in range(len(corpus['docID'])): #go through our tokenized corpus and lemmatize each document, now we have a list of lists of lemmatized words. \n",
        "  lemmatized_docs.append(lemmatize_tokens(tokenized_docs[i]))\n",
        "#lemmatized_docs[8]"
      ]
    },
    {
      "cell_type": "markdown",
      "metadata": {
        "id": "bGttAq16n36w"
      },
      "source": [
        "## Remove stop words\n",
        "\n",
        "You can use the `nltk` library to remove stop words. You can also use the `SpaCy` library to remove stopwords."
      ]
    },
    {
      "cell_type": "code",
      "source": [
        "import string\n",
        "from nltk.corpus import stopwords\n",
        "\n",
        "punctuation = list(string.punctuation)\n",
        "nltk.download('stopwords')\n",
        "stop_words = stopwords.words('english')\n",
        "\n"
      ],
      "metadata": {
        "id": "vc2lxgMLiKWr",
        "outputId": "b155c4df-c1a2-476f-904b-9ebf3a16ef27",
        "colab": {
          "base_uri": "https://localhost:8080/"
        }
      },
      "execution_count": 102,
      "outputs": [
        {
          "output_type": "stream",
          "name": "stderr",
          "text": [
            "[nltk_data] Downloading package stopwords to /root/nltk_data...\n",
            "[nltk_data]   Unzipping corpora/stopwords.zip.\n"
          ]
        }
      ]
    },
    {
      "cell_type": "code",
      "execution_count": 111,
      "metadata": {
        "id": "X9_fkWJcn36w"
      },
      "outputs": [],
      "source": [
        "#so now lets restart with the original text, tokenize and remove the stopwords, and then lemmatize again.\n",
        "\n",
        "def tokenize_text_stopwords(text, stops):\n",
        "    words = word_tokenize(text)\n",
        "    words = [w.lower() for w in words]\n",
        "    return [word for word in words if word not in stops and word not in punctuation]\n",
        "\n",
        "tokenized_docs = [] #loop through corpus and apply the tokenizer and stop remover to make a list of lists of words\n",
        "for i in range(len(corpus['docID'])):\n",
        "  tokenized_docs.append(tokenize_text_stopwords(corpus['text'][i], stop_words))\n",
        "lemmatized_docs = []\n",
        "for i in range(len(corpus['docID'])): #go through our tokenized corpus and lemmatize each document, now we have a list of lists of lemmatized words. \n",
        "  lemmatized_docs.append(lemmatize_tokens(tokenized_docs[i]))\n",
        "\n",
        "#lemmatized_docs[0]"
      ]
    },
    {
      "cell_type": "markdown",
      "metadata": {
        "id": "oGO6_dqWn36x"
      },
      "source": [
        "## Remove punctuation"
      ]
    },
    {
      "cell_type": "code",
      "execution_count": 114,
      "metadata": {
        "id": "fZuvmjiCn36y"
      },
      "outputs": [],
      "source": [
        "## I did the above code before seeing this section, so punctuation is already removed!"
      ]
    },
    {
      "cell_type": "markdown",
      "metadata": {
        "id": "HomxXQFyn36z"
      },
      "source": [
        "## Analyze the documents and corpus using TF-IDF"
      ]
    },
    {
      "cell_type": "code",
      "execution_count": 139,
      "metadata": {
        "id": "OpApG_bOn360"
      },
      "outputs": [],
      "source": [
        "## Using the vectorizer approach seen in lecture 6\n",
        "from sklearn.feature_extraction.text import TfidfVectorizer\n",
        "from sklearn.feature_extraction.text import CountVectorizer\n",
        "\n",
        "doc_strings = [' '.join(doc) for doc in lemmatized_docs]\n",
        "#print(doc_strings)\n",
        "vectorizer = TfidfVectorizer()\n",
        "tf_idf_matrix = vectorizer.fit_transform(doc_strings)\n",
        "tfidf_df = pd.DataFrame(tf_idf_matrix.toarray(), index=[0, 1, 2, 3, 4, 5, 6, 7, 8], columns=vectorizer.get_feature_names_out())\n",
        "tf_idf_scores = tf_idf_matrix.toarray()\n",
        "df = tfidf_df.transpose()\n",
        "#so now we have a dataframe with a row for every word, and columns for tf-idf importance in each document. "
      ]
    },
    {
      "cell_type": "code",
      "source": [
        "#some analysis\n",
        "print(df.idxmax()) #the word with the highest tf-idf score from each document. "
      ],
      "metadata": {
        "id": "wfybzpCkwHuf",
        "outputId": "b97264e6-156e-4e66-d312-84f28b170662",
        "colab": {
          "base_uri": "https://localhost:8080/"
        }
      },
      "execution_count": 132,
      "outputs": [
        {
          "output_type": "stream",
          "name": "stdout",
          "text": [
            "0           us\n",
            "1        shall\n",
            "2          let\n",
            "3        dedic\n",
            "4        state\n",
            "5          sir\n",
            "6           mr\n",
            "7          war\n",
            "8    constitut\n",
            "dtype: object\n"
          ]
        }
      ]
    },
    {
      "cell_type": "code",
      "source": [
        "#almost a heatmap\n",
        "print(df.head(15)) #here is the first 15 alphabetical entries (all numbers) for words in the corpus, with their tf-idf values for each document shown in the table"
      ],
      "metadata": {
        "id": "awUYGV3Bwe1p",
        "outputId": "bb6b7934-a667-4291-ac57-7986bd75ccd6",
        "colab": {
          "base_uri": "https://localhost:8080/"
        }
      },
      "execution_count": 136,
      "outputs": [
        {
          "output_type": "stream",
          "name": "stdout",
          "text": [
            "             0         1         2         3         4         5         6  \\\n",
            "10    0.000000  0.000000  0.000000  0.000000  0.006845  0.000000  0.000000   \n",
            "15    0.000000  0.060486  0.000000  0.000000  0.000000  0.000000  0.000000   \n",
            "1620  0.000000  0.000000  0.000000  0.000000  0.000000  0.000000  0.051176   \n",
            "1774  0.000000  0.000000  0.000000  0.000000  0.000000  0.000000  0.000000   \n",
            "1776  0.000000  0.000000  0.000000  0.000000  0.000000  0.000000  0.000000   \n",
            "1778  0.000000  0.000000  0.000000  0.000000  0.000000  0.000000  0.000000   \n",
            "1787  0.000000  0.000000  0.000000  0.000000  0.005781  0.000000  0.000000   \n",
            "1789  0.000000  0.060486  0.000000  0.000000  0.000000  0.000000  0.000000   \n",
            "1791  0.000000  0.060486  0.000000  0.000000  0.000000  0.000000  0.000000   \n",
            "1972  0.034792  0.000000  0.000000  0.000000  0.000000  0.000000  0.000000   \n",
            "1974  0.000000  0.000000  0.030384  0.000000  0.000000  0.000000  0.000000   \n",
            "1975  0.000000  0.000000  0.000000  0.074325  0.005781  0.000000  0.000000   \n",
            "1977  0.000000  0.000000  0.000000  0.000000  0.000000  0.033546  0.000000   \n",
            "1978  0.000000  0.000000  0.000000  0.000000  0.000000  0.000000  0.051176   \n",
            "1979  0.000000  0.000000  0.000000  0.000000  0.000000  0.000000  0.000000   \n",
            "\n",
            "             7         8  \n",
            "10    0.000000  0.000000  \n",
            "15    0.000000  0.000000  \n",
            "1620  0.000000  0.000000  \n",
            "1774  0.000000  0.015759  \n",
            "1776  0.000000  0.015759  \n",
            "1778  0.000000  0.015759  \n",
            "1787  0.000000  0.013310  \n",
            "1789  0.000000  0.000000  \n",
            "1791  0.000000  0.000000  \n",
            "1972  0.000000  0.000000  \n",
            "1974  0.000000  0.000000  \n",
            "1975  0.000000  0.000000  \n",
            "1977  0.000000  0.000000  \n",
            "1978  0.000000  0.000000  \n",
            "1979  0.056116  0.000000  \n"
          ]
        }
      ]
    },
    {
      "cell_type": "code",
      "source": [
        "#a real heatmap!\n",
        "import pandas as pd\n",
        "import seaborn as sns\n",
        "import matplotlib.pyplot as plt\n",
        "\n",
        "significant_words = df.index[df.max(axis=1) >= 0.2] #here we filter our dataframe for only words which, in any document, get above a 0.2 tf-idf score\n",
        "df_filtered = df.loc[significant_words]\n",
        "sns.heatmap(df_filtered, cmap='YlGnBu') #make a heatmap of words (index of df) vs their tf-idf scores in each column\n",
        "\n",
        "plt.show()"
      ],
      "metadata": {
        "id": "SxMVNIhNx6pE",
        "outputId": "07687559-ca87-4de1-d7fe-e2fa6023ffdf",
        "colab": {
          "base_uri": "https://localhost:8080/",
          "height": 265
        }
      },
      "execution_count": 144,
      "outputs": [
        {
          "output_type": "display_data",
          "data": {
            "text/plain": [
              "<Figure size 432x288 with 2 Axes>"
            ],
            "image/png": "[encoded data removed]"
          },
          "metadata": {
            "needs_background": "light"
          }
        }
      ]
    },
    {
      "cell_type": "markdown",
      "metadata": {
        "id": "vr9fjTq-n361"
      },
      "source": [
        "# Submission Instructions\n",
        "\n",
        "Please submit your assignment as a Jupyter Notebook or R Markdown file. You can submit your assignment as a link to a Google Colab notebook or a link to a GitHub repository. If you are submitting a link to a GitHub repository, please make sure that your repository is public. If you email the notebook to me, please zip the file before sending it."
      ]
    },
    {
      "cell_type": "code",
      "source": [],
      "metadata": {
        "id": "69uslFOEtaTz",
        "outputId": "15404e61-1566-4c15-ea87-41d7f293fb55",
        "colab": {
          "base_uri": "https://localhost:8080/",
          "height": 265
        }
      },
      "execution_count": 140,
      "outputs": [
        {
          "output_type": "display_data",
          "data": {
            "text/plain": [
              "<Figure size 432x288 with 2 Axes>"
            ],
            "image/png": "[encoded data removed]"
          },
          "metadata": {
            "needs_background": "light"
          }
        }
      ]
    },
    {
      "cell_type": "markdown",
      "metadata": {
        "id": "7IHZ6joQn361"
      },
      "source": []
    }
  ],
  "metadata": {
    "kernelspec": {
      "display_name": "venv",
      "language": "python",
      "name": "python3"
    },
    "language_info": {
      "codemirror_mode": {
        "name": "ipython",
        "version": 3
      },
      "file_extension": ".py",
      "mimetype": "text/x-python",
      "name": "python",
      "nbconvert_exporter": "python",
      "pygments_lexer": "ipython3",
      "version": "3.10.6"
    },
    "orig_nbformat": 4,
    "vscode": {
      "interpreter": {
        "hash": "7d99a3f87c484a74ba405ca572f7f1b4059e93a8c4d7f8027bf5ae12e7919d9c"
      }
    },
    "colab": {
      "provenance": []
    }
  },
  "nbformat": 4,
  "nbformat_minor": 0
}